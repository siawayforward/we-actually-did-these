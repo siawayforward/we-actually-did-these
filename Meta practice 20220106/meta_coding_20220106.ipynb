{
 "cells": [
  {
   "cell_type": "code",
   "metadata": {
    "tags": [],
    "cell_id": "00000-a1a92c65-d8e6-4eb7-ac5c-08bccc6327c8",
    "deepnote_to_be_reexecuted": false,
    "source_hash": "39c37faf",
    "execution_start": 1641505102693,
    "execution_millis": 5,
    "deepnote_cell_type": "code"
   },
   "source": "\"\"\"\nWrite a function that returns the elements on odd positions (0\nbased) in a list\n\"\"\"\ndef solution(input):\n    #code goes here\n    output = [x for x in input if input.index(x)%2 != 0]\n    return output",
   "execution_count": null,
   "outputs": []
  },
  {
   "cell_type": "code",
   "metadata": {
    "tags": [],
    "cell_id": "00001-9b6afce9-d9fd-4d4d-8ab6-0fe51eb99557",
    "deepnote_to_be_reexecuted": false,
    "source_hash": "e38bac31",
    "execution_start": 1641505278354,
    "execution_millis": 1,
    "deepnote_output_heights": [
     21.1875
    ],
    "deepnote_cell_type": "code"
   },
   "source": "assert solution([0,1,2,3,4,5]) == [1,3,5]\nassert solution([1,-1,2,-2]) == [-1,-2]",
   "execution_count": null,
   "outputs": []
  },
  {
   "cell_type": "code",
   "metadata": {
    "tags": [],
    "cell_id": "00002-4640865c-6677-4740-87ff-12eabff0bcc2",
    "deepnote_to_be_reexecuted": false,
    "source_hash": "a889f80c",
    "execution_start": 1641507466253,
    "execution_millis": 1,
    "deepnote_cell_type": "code"
   },
   "source": "\"\"\"\nWrite a function that returns the cumulative sum of elements in a\nlist\n\"\"\"\ndef solution(input):\n    # Code goes here\n    output = [input[0]]\n    output += [sum(input[0:i+1]) for i in range(1, len(input))]\n    return output",
   "execution_count": null,
   "outputs": []
  },
  {
   "cell_type": "code",
   "metadata": {
    "tags": [],
    "cell_id": "00003-6ebef556-3b33-4b2a-a056-491177ab371b",
    "deepnote_to_be_reexecuted": false,
    "source_hash": "5d2d4218",
    "execution_start": 1641507474555,
    "execution_millis": 2,
    "deepnote_output_heights": [
     136.3125
    ],
    "deepnote_cell_type": "code"
   },
   "source": "assert solution([1,1,1]) == [1,2,3]\nassert solution([1,-1,3]) == [1,0,3]",
   "execution_count": null,
   "outputs": []
  },
  {
   "cell_type": "code",
   "metadata": {
    "tags": [],
    "cell_id": "00004-25f6d62d-9b5a-4a18-9aac-c05537624358",
    "deepnote_to_be_reexecuted": false,
    "source_hash": "c6602abd",
    "execution_start": 1641507998636,
    "execution_millis": 2,
    "deepnote_cell_type": "code"
   },
   "source": "\"\"\"\nWrite a function that takes a number and returns a list of its\ndigits\n\"\"\"\ndef solution(input):\n    # Code goes here\n    output = [int(i) for i in list(str(input))]\n    return output",
   "execution_count": null,
   "outputs": []
  },
  {
   "cell_type": "code",
   "metadata": {
    "tags": [],
    "cell_id": "00005-b93c1557-e91c-4ed7-b5ac-5c135b1d9fd4",
    "deepnote_to_be_reexecuted": false,
    "source_hash": "885350dd",
    "execution_start": 1641507999557,
    "execution_millis": 1,
    "deepnote_output_heights": [
     136.3125
    ],
    "deepnote_cell_type": "code"
   },
   "source": "assert solution(123) == [1,2,3]\nassert solution(400) == [4,0,0]",
   "execution_count": null,
   "outputs": []
  },
  {
   "cell_type": "code",
   "metadata": {
    "tags": [],
    "cell_id": "00006-a832becc-2856-4389-8aa1-c826090831ba",
    "deepnote_to_be_reexecuted": false,
    "source_hash": "1345d41b",
    "execution_start": 1641508306577,
    "execution_millis": 0,
    "deepnote_cell_type": "code"
   },
   "source": "\"\"\"\nFrom: http://codingbat.com/prob/p126968\nReturn the \"centered\" average of an array of ints, which we'll\nsay is the mean average of the values, except ignoring the largest and\nsmallest values in the array. If there are multiple copies of the\nsmallest value, ignore just one copy, and likewise for the\nlargest value. Use int division to produce the final average. You may\nassume that the array is length 3 or more.\n\"\"\"\ndef solution(input):\n    # Code goes here\n    trimmed = sorted(input)[1:-1]\n    output = round(sum(trimmed)/len(trimmed))\n    return output",
   "execution_count": null,
   "outputs": []
  },
  {
   "cell_type": "code",
   "metadata": {
    "tags": [],
    "cell_id": "00007-643b402e-9232-4811-b849-52ec00a24113",
    "deepnote_to_be_reexecuted": false,
    "source_hash": "9491b90c",
    "execution_start": 1641508308352,
    "execution_millis": 2,
    "deepnote_output_heights": [
     155.5
    ],
    "deepnote_cell_type": "code"
   },
   "source": "assert solution([1, 2, 3, 4, 100]) == 3\nassert solution([1, 1, 5, 5, 10, 8, 7]) == 5\nassert solution([-10, -4, -2, -4, -2, 0]) == -3",
   "execution_count": null,
   "outputs": []
  },
  {
   "cell_type": "code",
   "metadata": {
    "tags": [],
    "cell_id": "00008-5b41773b-b3d5-4946-97ce-189bd6cb779a",
    "deepnote_cell_type": "code"
   },
   "source": "",
   "execution_count": null,
   "outputs": []
  },
  {
   "cell_type": "markdown",
   "source": "<a style='text-decoration:none;line-height:16px;display:flex;color:#5B5B62;padding:10px;justify-content:end;' href='https://deepnote.com?utm_source=created-in-deepnote-cell&projectId=81b136ac-6d16-4fba-84b8-02f07bcf9435' target=\"_blank\">\n<img alt='Created in deepnote.com' style='display:inline;max-height:16px;margin:0px;margin-right:7.5px;' src='data:image/svg+xml;base64,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' > </img>\nCreated in <span style='font-weight:600;margin-left:4px;'>Deepnote</span></a>",
   "metadata": {
    "tags": [],
    "created_in_deepnote_cell": true,
    "deepnote_cell_type": "markdown"
   }
  }
 ],
 "nbformat": 4,
 "nbformat_minor": 2,
 "metadata": {
  "orig_nbformat": 2,
  "deepnote": {
   "is_reactive": false
  },
  "deepnote_notebook_id": "e1c71567-cd1e-4c83-8345-c570e7aa65dd",
  "deepnote_execution_queue": []
 }
}