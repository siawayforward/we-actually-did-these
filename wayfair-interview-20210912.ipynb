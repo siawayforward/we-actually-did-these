{
 "cells": [
  {
   "cell_type": "code",
   "metadata": {
    "tags": [],
    "cell_id": "00000-37082cd0-d4e6-4c6c-afa2-87f9138b59ba",
    "deepnote_cell_type": "code"
   },
   "source": "# Start writing code here...",
   "execution_count": null,
   "outputs": []
  },
  {
   "cell_type": "code",
   "metadata": {
    "tags": [],
    "cell_id": "00002-086bdd12-0417-470e-81dc-95e6808b38e0",
    "deepnote_to_be_reexecuted": false,
    "source_hash": "3b57323c",
    "execution_start": 1631464044494,
    "execution_millis": 0,
    "deepnote_cell_type": "code"
   },
   "source": "x = [-1,2,7,3,4,5]\ny = [-1,-2,-7]\nz = [0,1,2,4,3,5]",
   "execution_count": null,
   "outputs": []
  },
  {
   "cell_type": "code",
   "metadata": {
    "tags": [],
    "cell_id": "00001-ee7024b8-f30a-43be-8822-6339791ef0b4",
    "deepnote_to_be_reexecuted": false,
    "source_hash": "dcd3beed",
    "execution_start": 1631464255187,
    "execution_millis": 0,
    "deepnote_cell_type": "code"
   },
   "source": "def solution(A):\n    # write your code in Python 3.6\n    smallest_missing_int = 1\n    A = sorted(A)\n    print('sorted', A)\n    #get the bounds and only positive ints\n    only_positive_ints = [n for n in A if n>0]\n    max_int, min_int = None, None\n    if only_positive_ints:\n        max_int = max(only_positive_ints)\n        min_int = min(only_positive_ints)\n    print('positives {} \\nmax {} \\nmin {}'.format(only_positive_ints, max_int, min_int))\n\n    #check if bounds are > 0\n    if min_int is None or len(only_positive_ints) == 0:\n        return smallest_missing_int\n    else:\n        #iterate and get the smallest gap\n        if smallest_missing_int not in range(min_int, max_int):\n            return smallest_missing_int\n        else:\n            for a in only_positive_ints:\n                #no gaps\n                if a - smallest_missing_int == 0:\n                    smallest_missing_int += 1\n                    print('now smallest is', smallest_missing_int)\n                    continue\n                #any gaps\n                elif a > smallest_missing_int:\n                    print('now smallest is here', smallest_missing_int)\n                    diff = a-smallest_missing_int\n                    if diff > 1:\n                        break\n                    else: pass\n                    #stop when you find a gap\n            return smallest_missing_int\n",
   "execution_count": null,
   "outputs": []
  },
  {
   "cell_type": "code",
   "metadata": {
    "tags": [],
    "cell_id": "00003-09e83eae-09b6-4a1d-90a8-8b03a3f1c927",
    "deepnote_to_be_reexecuted": false,
    "source_hash": "afeb2d69",
    "execution_start": 1631464256021,
    "execution_millis": 10,
    "deepnote_output_heights": [
     null,
     1
    ],
    "deepnote_cell_type": "code"
   },
   "source": "solution(x)",
   "execution_count": null,
   "outputs": [
    {
     "name": "stdout",
     "text": "sorted [-1, 2, 3, 4, 5, 7]\npositives [2, 3, 4, 5, 7] \nmax 7 \nmin 2\n",
     "output_type": "stream"
    },
    {
     "output_type": "execute_result",
     "execution_count": 80,
     "data": {
      "text/plain": "1"
     },
     "metadata": {}
    }
   ]
  },
  {
   "cell_type": "code",
   "metadata": {
    "tags": [],
    "cell_id": "00004-3dac4a10-0c60-4b2c-9bd5-7021c0b507da",
    "deepnote_to_be_reexecuted": false,
    "source_hash": "f2dc51be",
    "execution_start": 1631464003667,
    "execution_millis": 10,
    "deepnote_output_heights": [
     null,
     1
    ],
    "deepnote_cell_type": "code"
   },
   "source": "solution(y)",
   "execution_count": null,
   "outputs": [
    {
     "name": "stdout",
     "text": "sorted [-7, -2, -1]\npositives [] \nmax None \nmin None\n",
     "output_type": "stream"
    },
    {
     "output_type": "execute_result",
     "execution_count": 75,
     "data": {
      "text/plain": "1"
     },
     "metadata": {}
    }
   ]
  },
  {
   "cell_type": "code",
   "metadata": {
    "tags": [],
    "cell_id": "00005-bcff4e3d-1fc1-4ed0-b7ea-a30c135fa1f0",
    "deepnote_to_be_reexecuted": false,
    "source_hash": "a6512761",
    "execution_start": 1631464055104,
    "execution_millis": 8,
    "deepnote_output_heights": [
     null,
     21.1875
    ],
    "deepnote_cell_type": "code"
   },
   "source": "solution(z)",
   "execution_count": null,
   "outputs": [
    {
     "name": "stdout",
     "text": "sorted [0, 1, 2, 3, 4, 5]\npositives [1, 2, 3, 4, 5] \nmax 5 \nmin 1\nnow smallest is 2\nnow smallest is 3\nnow smallest is 4\nnow smallest is 5\nnow smallest is 6\n",
     "output_type": "stream"
    },
    {
     "output_type": "execute_result",
     "execution_count": 78,
     "data": {
      "text/plain": "6"
     },
     "metadata": {}
    }
   ]
  },
  {
   "cell_type": "markdown",
   "source": "### JSON stuff from that side project",
   "metadata": {
    "tags": [],
    "cell_id": "00006-07ea5f23-5bbc-4bbc-9c70-fa9d7c9367b3",
    "deepnote_cell_type": "markdown"
   }
  },
  {
   "cell_type": "code",
   "metadata": {
    "tags": [],
    "cell_id": "00007-888b7e7e-9713-469d-b67b-368b27f87f94",
    "deepnote_to_be_reexecuted": false,
    "source_hash": "f70bbac",
    "execution_start": 1641519793488,
    "execution_millis": 26,
    "deepnote_output_heights": [
     78.75
    ],
    "deepnote_cell_type": "code"
   },
   "source": "x =  [{'list_name': 'Trade Fiction Paperback', 'display_name': 'Paperback Trade Fiction', 'bestsellers_date': '2021-05-22', 'published_date': '2021-06-06', 'rank': 1, 'rank_last_week': 2, 'weeks_on_list': 8, 'asterisk': 0, 'dagger': 0, 'amazon_product_url': 'https://www.amazon.com/Where-Crawdads-Sing-Delia-Owens/dp/0735219095?tag=NYTBSREV-20', 'isbns': [{'isbn10': '0735219095', 'isbn13': '9780735219090'}, {'isbn10': '0735219117', 'isbn13': '9780735219113'}, {'isbn10': '0525640371', 'isbn13': '9780525640370'}, {'isbn10': '0593105419', 'isbn13': '9780593105412'}, {'isbn10': '0593187989', 'isbn13': '9780593187982'}, {'isbn10': '0525640363', 'isbn13': '9780525640363'}, {'isbn10': '0735219109', 'isbn13': '9780735219106'}], 'book_details': [{'title': 'WHERE THE CRAWDADS SING', 'description': 'In a quiet town on the North Carolina coast in 1969, a young woman who survived alone in the marsh becomes a murder suspect.', 'contributor': 'by Delia Owens', 'author': 'Delia Owens', 'contributor_note': '', 'price': '0.00', 'age_group': '', 'publisher': 'Putnam', 'primary_isbn13': '9780735219106', 'primary_isbn10': '0735219109'}], 'reviews': [{'book_review_link': '', 'first_chapter_link': '', 'sunday_review_link': '', 'article_chapter_link': ''}]}, {'list_name': 'Trade Fiction Paperback', 'display_name': 'Paperback Trade Fiction', 'bestsellers_date': '2021-05-22', 'published_date': '2021-06-06', 'rank': 2, 'rank_last_week': 4, 'weeks_on_list': 31, 'asterisk': 0, 'dagger': 0, 'amazon_product_url': 'http://www.amazon.com/The-Song-Achilles-A-Novel/dp/0062060627?tag=NYTBSREV-20', 'isbns': [{'isbn10': '0062060619', 'isbn13': '9780062060617'}, {'isbn10': '0062060627', 'isbn13': '9780062060624'}, {'isbn10': '0062060635', 'isbn13': '9780062060631'}, {'isbn10': '1408818906', 'isbn13': '9781408818909'}], 'book_details': [{'title': 'THE SONG OF ACHILLES', 'description': \"A reimagining of Homer’s “Iliad” that is narrated by Achilles' companion Patroclus.\", 'contributor': 'by Madeline Miller', 'author': 'Madeline Miller', 'contributor_note': '', 'price': '0.00', 'age_group': '', 'publisher': 'Ecco', 'primary_isbn13': '9780062060624', 'primary_isbn10': '0062060627'}], 'reviews': [{'book_review_link': 'https://www.nytimes.com/2012/04/29/books/review/the-song-of-achilles-by-madeline-miller.html', 'first_chapter_link': '', 'sunday_review_link': 'https://www.nytimes.com/2012/04/29/books/review/the-song-of-achilles-by-madeline-miller.html', 'article_chapter_link': ''}]}, {'list_name': 'Trade Fiction Paperback', 'display_name': 'Paperback Trade Fiction', 'bestsellers_date': '2021-05-22', 'published_date': '2021-06-06', 'rank': 3, 'rank_last_week': \n3, 'weeks_on_list': 3, 'asterisk': 0, 'dagger': 0, 'amazon_product_url': 'https://www.amazon.com/Silent-Patient-Alex-Michaelides/dp/1250301696?tag=NYTBSREV-20', 'isbns': [{'isbn10': '1250301696', 'isbn13': '9781250301697'}, {'isbn10': '1250301718', 'isbn13': '9781250301710'}, {'isbn10': '1250317541', 'isbn13': '9781250317544'}, {'isbn10': '1432858645', 'isbn13': '9781432858643'}, {'isbn10': '125030170X', 'isbn13': '9781250301703'}], \n'book_details': [{'title':  'THE SILENT PATIENT', 'description': 'Theo Faber looks into the mystery of a famous painter who stops speaking after shooting her husband.', 'contributor': 'by Alex Michaelides', 'author': 'Alex Michaelides', 'contributor_note': '', 'price': '0.00', 'age_group': '', 'publisher': 'Celadon', 'primary_isbn13': '9781250301703', 'primary_isbn10': '125030170X'}], 'reviews': [{'book_review_link': '', 'first_chapter_link': '', 'sunday_review_link': '', 'article_chapter_link': ''}]}, {'list_name': 'Trade Fiction Paperback', 'display_name': 'Paperback Trade Fiction', 'bestsellers_date': '2021-05-22', 'published_date': '2021-06-06', 'rank': 4, 'rank_last_week': 1, 'weeks_on_list': 2, 'asterisk': 0, 'dagger': 0, 'amazon_product_url': 'https://www.amazon.com/dp/1984806750?tag=NYTBSREV-20', 'isbns': [{'isbn10': '1984806750', 'isbn13': '9781984806758'}, {'isbn10': '1984806769', 'isbn13': '9781984806765'}], 'book_details': [{'title': 'PEOPLE WE MEET ON VACATION', 'description': 'Opposites Poppy and Alex meet to vacation together one more time in hopes of saving their relationship.', 'contributor': 'by Emily Henry', 'author': 'Emily Henry', 'contributor_note': '', 'price': '0.00', 'age_group': '', 'publisher': 'Berkley', 'primary_isbn13': '9781984806758', 'primary_isbn10': '1984806750'}], 'reviews': [{'book_review_link': '', 'first_chapter_link': '', 'sunday_review_link': '', 'article_chapter_link': ''}]}, {'list_name': 'Trade Fiction Paperback', 'display_name': 'Paperback Trade Fiction', 'bestsellers_date': '2021-05-22', 'published_date': '2021-06-06', 'rank': 5, 'rank_last_week': 5, 'weeks_on_list': 72, 'asterisk': 0, 'dagger': 0, 'amazon_product_url': 'https://www.amazon.com/Woman-Window-Novel-J-Finn/dp/0062678418?tag=NYTBSREV-20', 'isbns': [{'isbn10': '0062678418', 'isbn13': '9780062678416'}, {'isbn10': '0062678442', 'isbn13': '9780062678447'}, {'isbn10': '0062678434', 'isbn13': '9780062678430'}, {'isbn10': '0062801953', 'isbn13': '9780062801951'}, {'isbn10': '0062678426', 'isbn13': '9780062678423'}, {'isbn10': '0062905082', 'isbn13': '9780062905086'}, {'isbn10': '0062906135', 'isbn13': '9780062906137'}, {'isbn10': '0062791451', 'isbn13': '9780062791450'}, {'isbn10': '0062896210', 'isbn13': '9780062896216'}], 'book_details': [{'title': 'THE WOMAN IN THE WINDOW', 'description': 'A recluse who '+\n'drinks heavily and takes prescription drugs may have witnessed a crime across from her Harlem townhouse.', 'contributor': 'by A.J. Finn', 'author': 'A.J. Finn', 'contributor_note': '', 'price': '0.00', 'age_group': '', 'publisher': \n'Morrow', 'primary_isbn13': '9780062905086', 'primary_isbn10': '0062905082'}], 'reviews': [{'book_review_link': '', \n'first_chapter_link': '', 'sunday_review_link': '', 'article_chapter_link': ''}]}, {'list_name': 'Trade Fiction Paperback', 'display_name': 'Paperback Trade Fiction', 'bestsellers_date': '2021-05-22', 'published_date': '2021-06-06', 'rank': 6, 'rank_last_week': 0, 'weeks_on_list': 1, 'asterisk': 0, 'dagger': 0, 'amazon_product_url': 'https://www.amazon.com/dp/0525657606?tag=NYTBSREV-20', 'isbns': [{'isbn10': '0525657606', 'isbn13': '9780525657606'}, {'isbn10': '1984898876', 'isbn13': '9781984898876'}], 'book_details': [{'title': 'HAMNET', 'description': 'An imagined exploration of how the death of an 11-year-old boy to the Black Plague in 1596 might have affected a famous playwright and '+\n'his wife.', 'contributor': \"by Maggie O'Farrell\", 'author': \"Maggie O'Farrell\", 'contributor_note': '', 'price': '0.00', 'age_group': '', 'publisher': 'Vintage', 'primary_isbn13': '9781984898876', 'primary_isbn10': '1984898876'}], 'reviews': [{'book_review_link': '', 'first_chapter_link': '', 'sunday_review_link': '', 'article_chapter_link': ''}]}, {'list_name': 'Trade Fiction Paperback', 'display_name': 'Paperback Trade Fiction', 'bestsellers_date': '2021-05-22', 'published_date': '2021-06-06', 'rank': 7, 'rank_last_week': 10, 'weeks_on_list': 3, 'asterisk': 0, 'dagger': 0, 'amazon_product_url': 'https://www.amazon.com/Giver-Stars-Novel-Jojo-Moyes/dp/0399562486?tag=NYTBSREV-20', 'isbns': [{'isbn10': '0399562486', 'isbn13': '9780399562488'}, {'isbn10': '0399562508', 'isbn13': '9780399562501'}, {'isbn10': '0525530193', 'isbn13': '9780525530190'}, {'isbn10': '0399562494', 'isbn13': '9780399562495'}], 'book_details': \n[{'title': 'THE GIVER OF STARS', 'description': 'In Depression-era Kentucky, five women refuse to be cowed by men or convention as they deliver books.', 'contributor': 'by Jojo Moyes', 'author': 'Jojo Moyes', 'contributor_note': '', 'price': '0.00', 'age_group': '', 'publisher': 'Penguin', 'primary_isbn13': '9780399562495', 'primary_isbn10': '0399562494'}], 'reviews': [{'book_review_link': '', 'first_chapter_link': '', 'sunday_review_link': '', 'article_chapter_link': ''}]}, {'list_name': 'Trade Fiction Paperback', 'display_name': 'Paperback Trade Fiction', 'bestsellers_date': '2021-05-22', 'published_date': '2021-06-06', 'rank': 8, 'rank_last_week': 6, 'weeks_on_list': 3, 'asterisk': 0, 'dagger': 0, 'amazon_product_url': 'https://www.amazon.com/dp/0778389383?tag=NYTBSREV-20', 'isbns': [{'isbn10': '0778389383', 'isbn13': '9780778389385'}], 'book_details': [{'title': 'THE WOMAN WITH THE BLUE STAR', 'description': 'A friendship develops between two girls living in different circumstances in Poland during World War II.', 'contributor': 'by Pam Jenoff', 'author': 'Pam Jenoff', 'contributor_note': '', 'price': '0.00', 'age_group': '', 'publisher': 'Park Row', 'primary_isbn13': '9780778389385', 'primary_isbn10': '0778389383'}], 'reviews': [{'book_review_link': '', 'first_chapter_link': '', 'sunday_review_link': '', 'article_chapter_link': ''}]}, {'list_name': 'Trade Fiction Paperback', 'display_name': 'Paperback Trade Fiction', 'bestsellers_date': '2021-05-22', 'published_date': '2021-06-06', 'rank': 9, 'rank_last_week': 9, 'weeks_on_list': 12, 'asterisk': 0, 'dagger': 0, 'amazon_product_url': 'http://www.amazon.com/Underground-Railroad-Oprahs-Book-Club/dp/0385542364?tag=NYTBSREV-20', 'isbns': [{'isbn10': '0385542364', 'isbn13': '9780385542364'}, {'isbn10': '0385537042', 'isbn13': '9780385537049'}, {'isbn10': '0385537034', 'isbn13': '9780385537032'}, {'isbn10': '0345804325', 'isbn13': '9780345804327'}, {'isbn10': '059331476X', 'isbn13': '9780593314760'}], 'book_details': [{'title': 'THE UNDERGROUND RAILROAD', 'description': 'A teenage girl heads north on the network that helped slaves escape to freedom, envisioned in this novel as a secret system of actual tracks and tunnels.', 'contributor': 'by Colson Whitehead', 'author': 'Colson Whitehead', 'contributor_note': '', 'price': '0.00', \n'age_group': '', 'publisher': 'Anchor', 'primary_isbn13': '9780593314760', 'primary_isbn10': '059331476X'}], 'reviews': [{'book_review_link': 'https://www.nytimes.com/2016/08/14/books/review/colson-whitehead-underground-railroad.html', 'first_chapter_link': '', 'sunday_review_link': '', 'article_chapter_link': ''}]}, {'list_name': \n'Trade Fiction Paperback', 'display_name': 'Paperback Trade Fiction', 'bestsellers_date': '2021-05-22', 'published_date': '2021-06-06', 'rank': 10, 'rank_last_week': 8, 'weeks_on_list': 50, 'asterisk': 0, 'dagger': 0, 'amazon_product_url': 'https://www.amazon.com/Circe-Madeline-Miller/dp/0316556343?tag=NYTBSREV-20', 'isbns': [{'isbn10': '0316556343', 'isbn13': \n'9780316556347'}, {'isbn10': '0316556335', 'isbn13': '9780316556330'}, {'isbn10': '1478975318', 'isbn13': '9781478975311'}, {'isbn10': '1549171763', 'isbn13': '9781549171765'}, {'isbn10': '1549142380', 'isbn13': '9781549142383'}, {'isbn10': '0316556327', 'isbn13': '9780316556323'}], 'book_details': [{'title': 'CIRCE', \n'description': \"Zeus banishes Helios' daughter to an island, where she must choose between living with gods or mortals.\", 'contributor': 'by Madeline Miller', 'author': 'Madeline Miller', 'contributor_note': '', 'price': '0.00', 'age_group': '', 'publisher': 'Back Bay', 'primary_isbn13': '9780316556323', 'primary_isbn10': '0316556327'}], 'reviews': [{'book_review_link': 'https://www.nytimes.com/2018/05/28/books/review/circe-madeline-miller.html', 'first_chapter_link': '', 'sunday_review_link': '', 'article_chapter_link': ''}]}, {'list_name': 'Trade Fiction Paperback', 'display_name': 'Paperback Trade Fiction', 'bestsellers_date': '2021-05-22', 'published_date': '2021-06-06', 'rank': 11, 'rank_last_week': 11, 'weeks_on_list': 11, 'asterisk': 0, 'dagger': 0, 'amazon_product_url': 'https://www.amazon.com/dp/1501161938?tag=NYTBSREV-20', 'isbns': [{'isbn10': '1501161938', 'isbn13': '9781501161933'}, {'isbn10': '150113924X', 'isbn13': '9781501139246'}, {'isbn10': '1501139231', 'isbn13': '9781501139239'}, {'isbn10': '1797106325', 'isbn13': '9781797106328'}], 'book_details': [{'title': 'THE SEVEN HUSBANDS OF EVELYN HUGO', 'description': 'A movie icon recounts stories of her loves and career to a struggling magazine writer.', 'contributor': 'by Taylor Jenkins Reid', 'author': 'Taylor Jenkins Reid', 'contributor_note': '', 'price': '0.00', 'age_group': '', 'publisher': 'Washington Square', 'primary_isbn13': '9781501161933', 'primary_isbn10': '1501161938'}], 'reviews': [{'book_review_link': '', 'first_chapter_link': '', 'sunday_review_link': '', 'article_chapter_link': ''}]}, {'list_name': 'Trade Fiction Paperback', 'display_name': 'Paperback Trade Fiction', 'bestsellers_date': '2021-05-22', 'published_date': '2021-06-06', 'rank': 12, 'rank_last_week': 0, 'weeks_on_list': 9, 'asterisk': 0, 'dagger': 0, 'amazon_product_url': 'https://www.amazon.com/White-Royal-Blue-Casey-McQuiston/dp/1250316774?tag=NYTBSREV-20', 'isbns': [{'isbn10': '1250316774', 'isbn13': '9781250316776'}], 'book_details': [{'title': 'RED, WHITE AND ROYAL BLUE', 'description': 'A staged friendship between the son of the president and his rival, the Prince of Wales, evolves into a secret and potentially dangerous romance.', 'contributor': 'by Casey McQuiston', 'author': 'Casey McQuiston', 'contributor_note': '', 'price': '0.00', 'age_group': '', 'publisher': 'Griffin', 'primary_isbn13': '9781250316776', 'primary_isbn10': '1250316774'}], 'reviews': [{'book_review_link': '', 'first_chapter_link': '', 'sunday_review_link': '', 'article_chapter_link': ''}]}, {'list_name': 'Trade Fiction Paperback', 'display_name': 'Paperback Trade Fiction', 'bestsellers_date': '2021-05-22', 'published_date': '2021-06-06', 'rank': 13, 'rank_last_week': 7, 'weeks_on_list': 11, 'asterisk': 0, 'dagger': 0, 'amazon_product_url': 'https://www.amazon.com/dp/0062943472?tag=NYTBSREV-20', 'isbns': [{'isbn10': '0062943472', 'isbn13': '9780062943477'}, \n{'isbn10': '0062943480', 'isbn13': '9780062943484'}, {'isbn10': '006305941X', 'isbn13': '9780063059412'}, {'isbn10': '0062943499', 'isbn13': '9780062943491'}], 'book_details': [{'title': 'THE ROSE CODE', 'description': 'As a post-World War II royal wedding approaches, an encrypted letter resurrects an alliance between three female code breakers.', 'contributor': 'by Kate Quinn', 'author': 'Kate Quinn', 'contributor_note': '', 'price': '0.00', 'age_group': '', \n'publisher': 'Morrow', 'primary_isbn13': '9780062943477', 'primary_isbn10': '0062943472'}], 'reviews': [{'book_review_link': '', 'first_chapter_link': '', 'sunday_review_link': '', 'article_chapter_link': ''}]}, {'list_name': 'Trade Fiction Paperback', 'display_name': 'Paperback Trade Fiction', 'bestsellers_date': '2021-05-22', 'published_date': \n'2021-06-06', 'rank': 14, 'rank_last_week': 0, 'weeks_on_list': 1, 'asterisk': 0, 'dagger': 0, 'amazon_product_url': 'https://www.amazon.com/Unhoneymooners-Christina-Lauren-ebook/dp/B07MGS7HF1?tag=NYTBSREV-20', 'isbns': [{'isbn10': \n'1501128043', 'isbn13': '9781501128042'}, {'isbn10': '1501128035', 'isbn13': '9781501128035'}], 'book_details': [{'title': 'THE UNHONEYMOONERS', 'description': 'When food poisoning spoils a wedding, Olive Torres goes with the best man — who is also her nemesis — on her twin sister’s honeymoon.', 'contributor': 'by Christina Lauren', 'author': 'Christina Lauren', 'contributor_note': '', 'price': '0.00', 'age_group': '', 'publisher': 'Gallery', 'primary_isbn13': '9781501128035', 'primary_isbn10': '1501128035'}], 'reviews': [{'book_review_link': '', 'first_chapter_link': '', 'sunday_review_link': '', 'article_chapter_link': ''}]}, {'list_name': 'Trade Fiction Paperback', 'display_name': 'Paperback Trade Fiction', 'bestsellers_date': '2021-05-22', 'published_date': '2021-06-06', 'rank': 15, 'rank_last_week': 0, 'weeks_on_list': 26, 'asterisk': 0, 'dagger': 0, 'amazon_product_url': 'https://www.amazon.com/dp/1449486800?tag=NYTBSREV-20', 'isbns': [{'isbn10': '1449486800', 'isbn13': '9781449486808'}], 'book_details': [{'title': 'HOME BODY', 'description': 'Poems and illustrations by the author of “Milk and Honey” and “The Sun and Her Flowers.”', 'contributor': 'by Rupi Kaur', 'author': 'Rupi Kaur', 'contributor_note': '', 'price': '0.00', 'age_group': '', 'publisher': 'Andrews McMeel', 'primary_isbn13': '9781449486808', 'primary_isbn10': '1449486800'}], 'reviews': [{'book_review_link': '', 'first_chapter_link': '', 'sunday_review_link': '', 'article_chapter_link': ''}]}]",
   "execution_count": null,
   "outputs": []
  },
  {
   "cell_type": "code",
   "metadata": {
    "tags": [],
    "cell_id": "00008-920a8a18-f8f1-45b4-aec7-c4c7122b9a6c",
    "deepnote_to_be_reexecuted": false,
    "source_hash": "8e8bf261",
    "execution_start": 1641520036142,
    "execution_millis": 6,
    "deepnote_output_heights": [
     193.875
    ],
    "deepnote_cell_type": "code"
   },
   "source": "all_books, all_isbns = [], []\n\nfor book in x:\n    txt = book['book_details'][0]\n    item = {'genre': x[0]['display_name'],\n            'title': txt['title'], \n            'author': txt['author'], \n            'description': txt['description'],\n            'isbn13': txt['primary_isbn13'],\n            'weeks': int(book['weeks_on_list']),\n            'rating': None}\n    #we want books that appeared enough times on the list to be captured. One hit wonders, sorry!\n    if item['isbn13'] not in all_isbns and item['weeks'] >= 5:\n        all_books.append(item)\n        all_isbns.append(item['isbn13'])\nprint('books so far from:', len(all_books))",
   "execution_count": null,
   "outputs": [
    {
     "name": "stdout",
     "text": "books so far from: 9\n",
     "output_type": "stream",
     "data": {}
    }
   ]
  },
  {
   "cell_type": "code",
   "metadata": {
    "tags": [],
    "cell_id": "00009-88ee55e5-f8ba-4391-8184-b9d7c7ae9a57",
    "deepnote_cell_type": "code"
   },
   "source": "",
   "execution_count": null,
   "outputs": []
  },
  {
   "cell_type": "markdown",
   "source": "<a style='text-decoration:none;line-height:16px;display:flex;color:#5B5B62;padding:10px;justify-content:end;' href='https://deepnote.com?utm_source=created-in-deepnote-cell&projectId=81b136ac-6d16-4fba-84b8-02f07bcf9435' target=\"_blank\">\n<img alt='Created in deepnote.com' style='display:inline;max-height:16px;margin:0px;margin-right:7.5px;' src='data:image/svg+xml;base64,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' > </img>\nCreated in <span style='font-weight:600;margin-left:4px;'>Deepnote</span></a>",
   "metadata": {
    "tags": [],
    "created_in_deepnote_cell": true,
    "deepnote_cell_type": "markdown"
   }
  }
 ],
 "nbformat": 4,
 "nbformat_minor": 2,
 "metadata": {
  "orig_nbformat": 2,
  "deepnote": {
   "is_reactive": false
  },
  "deepnote_notebook_id": "84514f09-1a6c-4827-8616-5f69977aa68f",
  "deepnote_execution_queue": []
 }
}